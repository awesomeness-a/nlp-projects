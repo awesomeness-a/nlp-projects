{
 "cells": [
  {
   "cell_type": "markdown",
   "metadata": {},
   "source": [
    "# Mystery Friend\n",
    "\n",
    "You’ve received an anonymous postcard from a friend who you haven’t seen in years. Your friend did not leave a name, but the card is definitely addressed to you. So far, you’ve narrowed your search down to three friends, based on handwriting:\n",
    "\n",
    "* _Emma Goldman_\n",
    "* _Matthew Henson_\n",
    "* _TingFang Wu_\n",
    "\n",
    "But which one sent you the card?\n",
    "\n",
    "Just like you can classify a message as spam or not spam with a spam filter, you can classify writing as related to one friend or another by building a kind of friend writing classifier. You have past writing from all three friends stored up in the variable `friends_docs`, which means you can use scikit-learn’s bag-of-words and Naive Bayes classifier to determine who the mystery friend is!\n",
    "\n",
    "Ready?"
   ]
  },
  {
   "cell_type": "markdown",
   "metadata": {},
   "source": [
    "## Feature vectors are in the bag with scikit-learn\n",
    "\n",
    "Near the top of `script.py`, we import `CountVectorizer` from `sklearn.feature_extraction.text`. Below it, we import `MultinomialNB` from `sklearn.naive_bayes`.\n",
    "\n",
    "After that, we define `bow_vectorizer` as an implementation of CountVectorizer.\n",
    "\n",
    "Then, we use the newly minted `bow_vectorizer` to both fit (train) and transform (vectorize) all our friends’ writing (stored in the variable `friends_docs`). The resulting vector object is saved as `friends_vectors`.\n",
    "\n",
    "Last, we create a new variable `mystery_vector`, and assign to it the vectorized form of [mystery_postcard] using the vectorizer’s `.transform()` method.\n",
    "\n",
    "(mystery_postcard is a string, while the vectorizer expects a list as an argument.)"
   ]
  },
  {
   "cell_type": "code",
   "execution_count": 1,
   "metadata": {},
   "outputs": [],
   "source": [
    "from goldman_emma_raw import goldman_docs\n",
    "from henson_matthew_raw import henson_docs\n",
    "from wu_tingfang_raw import wu_docs\n",
    "from sklearn.feature_extraction.text import CountVectorizer\n",
    "from sklearn.naive_bayes import MultinomialNB\n",
    "\n",
    "# setting up the combined list of friends' writing samples\n",
    "friends_docs = goldman_docs + henson_docs + wu_docs\n",
    "\n",
    "# setting up labels for three friends\n",
    "friends_labels = [1] * 154 + [2] * 141 + [3] * 166\n",
    "\n",
    "mystery_postcard = \"\"\"\n",
    "My friend,\n",
    "From the 10th of July to the 13th, a #fierce storm raged, clouds of\n",
    "freeing spray broke over the ship, #incasing her in a coat of icy mail,\n",
    "and the tempest forced all of the ice out of the lower end of the\n",
    "channel and beyond as far as the eye could see, but the _Roosevelt_\n",
    "still remained surrounded by ice.\n",
    "Hope to see you soon.\n",
    "\"\"\"\n",
    "\n",
    "# create bow_vectorizer:\n",
    "bow_vectorizer = CountVectorizer()\n",
    "\n",
    "# define friends_vectors:\n",
    "friends_vectors = bow_vectorizer.fit_transform(friends_docs)\n",
    "\n",
    "# define mystery_vector: \n",
    "mystery_vector = bow_vectorizer.transform([mystery_postcard])"
   ]
  },
  {
   "cell_type": "markdown",
   "metadata": {},
   "source": [
    "## This mystery friend gets classified\n",
    "\n",
    "We’ve vectorized and prepared all the documents. Let’s take a looks at our friends’ writing samples to get a sense of how they write.\n",
    "\n",
    "Let's print out one document of each friend’s writing — any one between 0 and 140. (they're stored in `goldman_docs`, `henson_docs`, and `wu_docs`.)"
   ]
  },
  {
   "cell_type": "code",
   "execution_count": 2,
   "metadata": {},
   "outputs": [
    {
     "name": "stdout",
     "output_type": "stream",
     "text": [
      " Anarchism,\n",
      "however, also recognizes the right of the individual, or numbers of\n",
      "individuals, to arrange at all times for other forms of work, in\n",
      "harmony with their tastes and desires.\n",
      "\n",
      "Such free display of human energy being possible only under complete\n",
      "individual and social freedom, Anarchism directs its forces against\n",
      "the third and greatest foe of all social equality; namely, the State,\n",
      "organized authority, or statutory law,--the dominion of human\n",
      "conduct.\n",
      "\n",
      "Just as religion has fettered the human mind, and as property, or the\n",
      "monopoly of things, has subdued and stifled man's needs, so has the\n",
      "State enslaved his spirit, dictating every phase of conduct\n",
      "I was to live with a people who, the scientists\n",
      "stated, represented the earliest form of human life, living in what is\n",
      "known as the Stone Age, and I was to revert to that stage of life by\n",
      "leaps and bounds, and to emerge from it by the same sudden means\n",
      " But it is not only the men who go abroad; in many cases\n",
      "ladies also travel by themselves\n"
     ]
    }
   ],
   "source": [
    "# print out a document from each friend:\n",
    "print(goldman_docs[56])\n",
    "print(henson_docs[34])\n",
    "print(wu_docs[99])"
   ]
  },
  {
   "cell_type": "markdown",
   "metadata": {},
   "source": [
    "Have an inkling about which friend wrote the mystery card? We can use a classifier to confirm those suspicions…\n",
    "\n",
    "We implement a Naive Bayes classifier using `MultinomialNB`, and save the result to `friends_classifier`.\n",
    "\n",
    "Then, we train `friends_classifier` on `friends_vectors` and `friends_labels` using the classifier’s `.fit()` method.\n",
    "\n",
    "Let's change predictions value from [\"None Yet\"] to the classifier’s prediction about which friend wrote the postcard. We can do this by calling the classifier’s `.predict()` method on the `mystery_vector`."
   ]
  },
  {
   "cell_type": "code",
   "execution_count": 3,
   "metadata": {},
   "outputs": [
    {
     "name": "stdout",
     "output_type": "stream",
     "text": [
      "The postcard was from 2!\n",
      "[2]\n"
     ]
    }
   ],
   "source": [
    "# define friends_classifier:\n",
    "friends_classifier = MultinomialNB()\n",
    "\n",
    "# train the classifier:\n",
    "friends_classifier.fit(friends_vectors, friends_labels)\n",
    "\n",
    "# change predictions:\n",
    "#predictions = [\"None Yet\"]\n",
    "predictions = friends_classifier.predict(mystery_vector)\n",
    "\n",
    "mystery_friend = predictions[0] if predictions[0] else \"someone else\"\n",
    "# Uncomment the print statement:\n",
    "print(\"The postcard was from {}!\".format(mystery_friend))\n",
    "print(predictions)"
   ]
  },
  {
   "cell_type": "markdown",
   "metadata": {},
   "source": [
    "## Mystery revealed!\n",
    "\n",
    "Does it really work? \n",
    "\n",
    "Let's find some lines by Emma Goldman, Matthew Henson, and TingFang Wu on [gutenberg.org](gutenberg.org) and save them to `mystery_postcard` to see how the classifier holds up!\n",
    "\n",
    "We'll also use the `.predict_proba()` method instead of `.predict()` and print out predictions to see the estimated probabilities that the `mystery_postcard` was written by each person.\n",
    "\n",
    "What happens when we add in a recent email or text instead?"
   ]
  },
  {
   "cell_type": "code",
   "execution_count": 4,
   "metadata": {},
   "outputs": [
    {
     "name": "stdout",
     "output_type": "stream",
     "text": [
      "[[1.10199321e-02 9.88977727e-01 2.34054697e-06]]\n"
     ]
    }
   ],
   "source": [
    "mystery_postcard = \"\"\"\n",
    "Free love? As if love is anything but free! Man has bought brains, but all the millions in the world have failed \n",
    "to buy love. Man has subdued bodies, but all the power on earth has been unable to subdue love. Man has conquered \n",
    "whole nations, but all his armies could not conquer love. Man has chained and fettered the spirit, but he has been \n",
    "utterly helpless before love. High on a throne, with all the splendor and pomp his gold can command, man is yet poor \n",
    "and desolate, if love passes him by. And if it stays, the poorest hovel is radiant with warmth, with life and color. \n",
    "Thus love has the magic power to make of a beggar a king. Yes, love is free; it can dwell in no other atmosphere. \n",
    "In freedom it gives itself unreservedly, abundantly, completely. All the laws on the statutes, all the courts in the \n",
    "universe, cannot tear it from the soil, once love has taken root. If, however, the soil is sterile, how can marriage \n",
    "make it bear fruit? It is like the last desperate struggle of fleeting life against death.\n",
    "\"\"\"\n",
    "\n",
    "predictions = friends_classifier.predict_proba(mystery_vector)\n",
    "print(predictions)"
   ]
  }
 ],
 "metadata": {
  "kernelspec": {
   "display_name": "Python 3",
   "language": "python",
   "name": "python3"
  },
  "language_info": {
   "codemirror_mode": {
    "name": "ipython",
    "version": 3
   },
   "file_extension": ".py",
   "mimetype": "text/x-python",
   "name": "python",
   "nbconvert_exporter": "python",
   "pygments_lexer": "ipython3",
   "version": "3.7.6"
  }
 },
 "nbformat": 4,
 "nbformat_minor": 4
}
